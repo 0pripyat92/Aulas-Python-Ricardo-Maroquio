{
 "cells": [
  {
   "cell_type": "code",
   "execution_count": null,
   "metadata": {},
   "outputs": [],
   "source": [
    "# Estruturas Condicionais Simples e Compostas"
   ]
  },
  {
   "cell_type": "code",
   "execution_count": 20,
   "metadata": {},
   "outputs": [
    {
     "name": "stdout",
     "output_type": "stream",
     "text": [
      "Voce é maior de idade\n"
     ]
    }
   ],
   "source": [
    "idade = int(input(\"Digite sua idade: \"))\n",
    "if idade >=19:\n",
    "    print(f\"Voce é maior de idade\")\n",
    "else:\n",
    "    print(f\"Voce é menor de idade\")\n"
   ]
  },
  {
   "cell_type": "code",
   "execution_count": 22,
   "metadata": {},
   "outputs": [
    {
     "name": "stdout",
     "output_type": "stream",
     "text": [
      "O numero é par\n"
     ]
    }
   ],
   "source": [
    "numero = int(input(\"Digite um numero: \"))\n",
    "if numero % 2 == 0:\n",
    "    print(\"O numero é par\")\n",
    "else:\n",
    "    print(\"O numero é impar\")"
   ]
  },
  {
   "cell_type": "code",
   "execution_count": 25,
   "metadata": {},
   "outputs": [
    {
     "name": "stdout",
     "output_type": "stream",
     "text": [
      "Você é um adulto\n"
     ]
    }
   ],
   "source": [
    "idade = int(input(\"Digite sua idade\"))\n",
    "if idade >= 18:\n",
    "    print(\"Você é um adulto\")\n",
    "elif idade <= 12:\n",
    "    print(\"Voce é criança\")\n",
    "else:\n",
    "    print(\"Voce é a porra de um adolecente chato\")"
   ]
  }
 ],
 "metadata": {
  "kernelspec": {
   "display_name": "Python 3",
   "language": "python",
   "name": "python3"
  },
  "language_info": {
   "codemirror_mode": {
    "name": "ipython",
    "version": 3
   },
   "file_extension": ".py",
   "mimetype": "text/x-python",
   "name": "python",
   "nbconvert_exporter": "python",
   "pygments_lexer": "ipython3",
   "version": "3.12.1"
  }
 },
 "nbformat": 4,
 "nbformat_minor": 2
}
