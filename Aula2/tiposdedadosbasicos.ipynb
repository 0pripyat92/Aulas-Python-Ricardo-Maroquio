{
 "cells": [
  {
   "cell_type": "code",
   "execution_count": null,
   "metadata": {},
   "outputs": [],
   "source": [
    "#Tipos de dados básicos"
   ]
  },
  {
   "cell_type": "code",
   "execution_count": 8,
   "metadata": {},
   "outputs": [
    {
     "name": "stdout",
     "output_type": "stream",
     "text": [
      "Eu comprei 5 biscoitos a R$ 2.59 cada.\n",
      "Quantidade: <class 'int'>\n",
      "Preço: <class 'float'>\n"
     ]
    }
   ],
   "source": [
    "# numeros int e float\n",
    "quantidade = 5\n",
    "preco_unitario = 2.59\n",
    "print(f\"Eu comprei {quantidade} biscoitos a R$ {preco_unitario} cada.\")\n",
    "print(f\"Quantidade: {type(quantidade)}\")\n",
    "print(f\"Preço: {type(preco_unitario)}\")"
   ]
  },
  {
   "cell_type": "code",
   "execution_count": 15,
   "metadata": {},
   "outputs": [
    {
     "name": "stdout",
     "output_type": "stream",
     "text": [
      "A primeira frase é: <class 'str'>\n",
      "A segunda frase é: <class 'str'>\n"
     ]
    }
   ],
   "source": [
    "# string\n",
    "frase_saudacao_1 = \"Olá Python!\"\n",
    "frase_saudacao_2 = 'Ola Python!'\n",
    "print(f\"A primeira frase é: {type (frase_saudacao_1)}\")\n",
    "print(f\"A segunda frase é: {type (frase_saudacao_2)}\")"
   ]
  },
  {
   "cell_type": "code",
   "execution_count": 20,
   "metadata": {},
   "outputs": [
    {
     "name": "stdout",
     "output_type": "stream",
     "text": [
      "\n",
      "Esse é um texto qualquer!\n",
      "    Esse é um texto qualquer!\n",
      "        Esse é um texto qualquer!\n",
      "    Esse é um texto qualquer!\n",
      "Esse é um texto qualquer!\n",
      "\n",
      "O tipo da variavel é: <class 'str'>\n"
     ]
    }
   ],
   "source": [
    "# string\n",
    "texto_grande = \"\"\"\n",
    "Esse é um texto qualquer!\n",
    "    Esse é um texto qualquer!\n",
    "        Esse é um texto qualquer!\n",
    "    Esse é um texto qualquer!\n",
    "Esse é um texto qualquer!\n",
    "\"\"\"\n",
    "print(texto_grande)\n",
    "print(f\"O tipo da variavel é: { type(texto_grande)}\")"
   ]
  },
  {
   "cell_type": "code",
   "execution_count": 22,
   "metadata": {},
   "outputs": [
    {
     "name": "stdout",
     "output_type": "stream",
     "text": [
      "casado: <class 'bool'>\n",
      "empregado: <class 'bool'>\n"
     ]
    }
   ],
   "source": [
    "# bool (true e false)\n",
    "casado = True\n",
    "tem_filhos = False\n",
    "empregado = False\n",
    "print(f\"casado: {type(casado)}\")\n",
    "print(f\"empregado: {type(empregado)}\")"
   ]
  }
 ],
 "metadata": {
  "kernelspec": {
   "display_name": "Python 3",
   "language": "python",
   "name": "python3"
  },
  "language_info": {
   "codemirror_mode": {
    "name": "ipython",
    "version": 3
   },
   "file_extension": ".py",
   "mimetype": "text/x-python",
   "name": "python",
   "nbconvert_exporter": "python",
   "pygments_lexer": "ipython3",
   "version": "3.12.1"
  }
 },
 "nbformat": 4,
 "nbformat_minor": 2
}
