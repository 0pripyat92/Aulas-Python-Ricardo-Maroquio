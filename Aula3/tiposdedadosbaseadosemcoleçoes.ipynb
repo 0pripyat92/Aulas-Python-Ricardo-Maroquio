{
 "cells": [
  {
   "cell_type": "code",
   "execution_count": null,
   "metadata": {},
   "outputs": [],
   "source": [
    "# Tipos de dados baseados em coleções"
   ]
  },
  {
   "cell_type": "code",
   "execution_count": 18,
   "metadata": {},
   "outputs": [
    {
     "name": "stdout",
     "output_type": "stream",
     "text": [
      "Produtos: <class 'list'>\n",
      "['banana', 'uva', 'abacate']\n",
      "['melancia', 'uva', 'abacate']\n"
     ]
    }
   ],
   "source": [
    "# <class 'list'>\n",
    "produtos = [\"banana\", \"uva\", \"abacate\"]\n",
    "print(f\"Produtos: {type(produtos)}\")\n",
    "print(produtos)\n",
    "produtos[0] = \"melancia\"\n",
    "print(produtos)"
   ]
  },
  {
   "cell_type": "code",
   "execution_count": 7,
   "metadata": {},
   "outputs": [
    {
     "name": "stdout",
     "output_type": "stream",
     "text": [
      "Os elementos da lista são: ['banana', 25, True, 10, 99]\n",
      "Lista heterogenea: <class 'list'>\n"
     ]
    }
   ],
   "source": [
    "# <class 'list'>\n",
    "lista_heterogenea = [\"banana\", 25, True, 10,99]\n",
    "print(f\"Os elementos da lista são: {lista_heterogenea}\")\n",
    "print(f\"Lista heterogenea: {type(lista_heterogenea)}\")\n"
   ]
  },
  {
   "cell_type": "code",
   "execution_count": 19,
   "metadata": {},
   "outputs": [
    {
     "name": "stdout",
     "output_type": "stream",
     "text": [
      "{3, 5, 55, 57, 11, 28}\n",
      "Numeros Soreteados <class 'set'>\n"
     ]
    }
   ],
   "source": [
    "# <class 'set'>\n",
    "numeros_sorteados = {3, 5, 5, 11, 28, 55, 57}\n",
    "print(numeros_sorteados)\n",
    "print(f\"Numeros Soreteados {type(numeros_sorteados)}\")"
   ]
  },
  {
   "cell_type": "code",
   "execution_count": 22,
   "metadata": {},
   "outputs": [
    {
     "name": "stdout",
     "output_type": "stream",
     "text": [
      "{1: 'banana', 2: 'morango', 3: 'uva', 4: 'abacaxi', 5: 'abacate'}\n",
      "Produtos: <class 'dict'>\n"
     ]
    }
   ],
   "source": [
    "# <class 'dict'>\n",
    "produtos = {1:\"banana\", 2:\"morango\", 3:\"uva\", 4:\"abacaxi\", 5:\"abacate\"}\n",
    "print(produtos)\n",
    "print(f\"Produtos: {type(produtos)}\")"
   ]
  },
  {
   "cell_type": "code",
   "execution_count": 24,
   "metadata": {},
   "outputs": [
    {
     "name": "stdout",
     "output_type": "stream",
     "text": [
      "{'a': '9 a 10', 'b': '8 a 9', 'c': '6 a 8'}\n",
      "Conceitos <class 'dict'>\n"
     ]
    }
   ],
   "source": [
    "# <class 'dict'>\n",
    "conceitos = {\"a\": \"9 a 11\", \"b\": \"8 a 9\", \"c\": \"6 a 8\", \"a\": \"9 a 10\"}\n",
    "print(conceitos)\n",
    "print(f\"Conceitos: {type(conceitos)}\")"
   ]
  },
  {
   "cell_type": "code",
   "execution_count": 27,
   "metadata": {},
   "outputs": [
    {
     "name": "stdout",
     "output_type": "stream",
     "text": [
      "('374.140.548-00', 'Carlos Rogério', True, 1800.0, 32)\n",
      "Pessoa1: <class 'tuple'>\n"
     ]
    }
   ],
   "source": [
    "# <class 'tuple'>\n",
    "pessoa_1 = (\"374.140.548-00\", \"Carlos Rogério\", True, 1800.00, 32)\n",
    "print(pessoa_1)\n",
    "print(f\"Pessoa1: {type(pessoa_1)}\")"
   ]
  }
 ],
 "metadata": {
  "kernelspec": {
   "display_name": "Python 3",
   "language": "python",
   "name": "python3"
  },
  "language_info": {
   "codemirror_mode": {
    "name": "ipython",
    "version": 3
   },
   "file_extension": ".py",
   "mimetype": "text/x-python",
   "name": "python",
   "nbconvert_exporter": "python",
   "pygments_lexer": "ipython3",
   "version": "3.12.1"
  }
 },
 "nbformat": 4,
 "nbformat_minor": 2
}
