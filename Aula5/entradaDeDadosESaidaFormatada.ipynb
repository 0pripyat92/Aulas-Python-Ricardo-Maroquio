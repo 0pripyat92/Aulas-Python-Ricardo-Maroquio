{
 "cells": [
  {
   "cell_type": "code",
   "execution_count": null,
   "metadata": {},
   "outputs": [],
   "source": [
    "# Entrada de dados e saida formatada"
   ]
  },
  {
   "cell_type": "code",
   "execution_count": 5,
   "metadata": {},
   "outputs": [
    {
     "name": "stdout",
     "output_type": "stream",
     "text": [
      "Olá, Carlos!\n"
     ]
    }
   ],
   "source": [
    " nome = input(\"digite seu nome: \")\n",
    "print(\"Olá, \" + nome + \"!\")"
   ]
  },
  {
   "cell_type": "code",
   "execution_count": 23,
   "metadata": {},
   "outputs": [
    {
     "name": "stdout",
     "output_type": "stream",
     "text": [
      "O resultado em <class 'int'>  é 4\n"
     ]
    }
   ],
   "source": [
    "#convertendo o valor string do input em numero inteiro\n",
    "valor1 = input(\"Digite o primeiro numero: \")\n",
    "valor2 = input(\"Digite o segundo numero: \")\n",
    "valor1 = int(valor1)\n",
    "valor2 = int(valor2)\n",
    "resultado = valor1 + valor2\n",
    "print(f\"O resultado em {type (resultado)}  é\", resultado)\n"
   ]
  },
  {
   "cell_type": "code",
   "execution_count": 22,
   "metadata": {},
   "outputs": [
    {
     "name": "stdout",
     "output_type": "stream",
     "text": [
      "O resultado em <class 'float'> é 10.0\n"
     ]
    }
   ],
   "source": [
    "#convertendo o valor string do input em numero float\n",
    "valor1 = input(\"Digite o primeiro numero: \")\n",
    "valor2 = input(\"Digite o segundo numero: \")\n",
    "numero1 = float(valor1)\n",
    "numero2 = float(valor2)\n",
    "resultado = numero1 + numero2\n",
    "print(f\"O resultado em {type (resultado)} é\", resultado)"
   ]
  },
  {
   "cell_type": "code",
   "execution_count": 36,
   "metadata": {},
   "outputs": [
    {
     "name": "stdout",
     "output_type": "stream",
     "text": [
      "Meu nome é Carlos e tenho 1.70m de altura\n"
     ]
    }
   ],
   "source": [
    "# formatação com {} no texto da variavel e .format no print\n",
    "# formatação de casas decimais com :.2f na {} \n",
    "nome = \"Carlos\"\n",
    "altura = 1.7\n",
    "texto = \"Meu nome é {} e tenho {:.2f}m de altura\"\n",
    "print(texto.format(nome, altura)) "
   ]
  },
  {
   "cell_type": "code",
   "execution_count": 44,
   "metadata": {},
   "outputs": [
    {
     "name": "stdout",
     "output_type": "stream",
     "text": [
      "Valor sem formatação: 10920.8\n",
      "Valor com formatação: 10,920.80\n"
     ]
    }
   ],
   "source": [
    "# formatação de numero float com uma casa decimal para float com duas casas decimais \n",
    "# usando: {;,.2f}.format(valor)\n",
    "valor = 10920.8\n",
    "formatado = \"{:,.2f}\".format(valor)\n",
    "print(f\"Valor sem formatação:\", valor)\n",
    "print(f\"Valor com formatação:\", formatado)"
   ]
  },
  {
   "cell_type": "code",
   "execution_count": 8,
   "metadata": {},
   "outputs": [
    {
     "name": "stdout",
     "output_type": "stream",
     "text": [
      " O valor formatado para Moeda Brasileira é: R$ 10920,80\n"
     ]
    }
   ],
   "source": [
    "# formatação de numero float com uma casa decimal retornando float com duas casas decimais \n",
    "# usando: biblioteca importada locale\n",
    "import locale\n",
    "\n",
    "def formatar_moeda(valor):\n",
    "    # Defina o locale para o Brasil (pt_BR)\n",
    "    locale.setlocale(locale.LC_ALL, 'pt_BR.UTF-8')\n",
    "\n",
    "    # Formate o valor como moeda\n",
    "    valor_formatado = locale.currency(valor, grouping=True, symbol=True)\n",
    "\n",
    "    return valor_formatado\n",
    "\n",
    "# Exemplo de uso\n",
    "valor_em_reais = 10920.8\n",
    "valor_formatado = formatar_moeda(valor_em_reais)\n",
    "print(f\" O valor formatado para Moeda Brasileira é:\", valor_formatado)  # Exibe: R$ 123.456,78\n"
   ]
  },
  {
   "cell_type": "code",
   "execution_count": 2,
   "metadata": {},
   "outputs": [
    {
     "name": "stdout",
     "output_type": "stream",
     "text": [
      "Meu nome é Carlos e tenho 30 anos.\n"
     ]
    }
   ],
   "source": [
    "#forma atiga para se representar valores usando o operador %s e %d %(var, var1)\n",
    "nome = \"Carlos\"\n",
    "idade = 30\n",
    "print(\"Meu nome é %s e tenho %d anos.\" %(nome, idade))"
   ]
  },
  {
   "cell_type": "code",
   "execution_count": 3,
   "metadata": {},
   "outputs": [
    {
     "name": "stdout",
     "output_type": "stream",
     "text": [
      "Meu nome é Carlos, tenho 32 anos e peso 71.79kg\n"
     ]
    }
   ],
   "source": [
    "#forma moderna para se representar valores usando o opreador (f\" {ex.1} {ex.2}\")\n",
    "nome = \"Carlos\"\n",
    "idade = 32\n",
    "peso = 71.79\n",
    "print(f\"Meu nome é {nome}, tenho {idade} anos e peso {peso:.2f}kg\")"
   ]
  },
  {
   "cell_type": "code",
   "execution_count": 2,
   "metadata": {},
   "outputs": [
    {
     "name": "stdout",
     "output_type": "stream",
     "text": [
      "Meu nome é Carlos, tenho 32 anos e peso 71,8kg.\n"
     ]
    }
   ],
   "source": [
    "import locale\n",
    "locale.setlocale(locale.LC_ALL, 'pt_BR.UTF-8')\n",
    "\n",
    "nome = \"Carlos\"\n",
    "idade = 32\n",
    "peso = 71.79\n",
    "print(f\"Meu nome é {nome}, tenho {idade} anos e peso {locale.format_string('%.1f', peso, grouping=True)}kg.\")"
   ]
  }
 ],
 "metadata": {
  "kernelspec": {
   "display_name": "Python 3",
   "language": "python",
   "name": "python3"
  },
  "language_info": {
   "codemirror_mode": {
    "name": "ipython",
    "version": 3
   },
   "file_extension": ".py",
   "mimetype": "text/x-python",
   "name": "python",
   "nbconvert_exporter": "python",
   "pygments_lexer": "ipython3",
   "version": "3.12.1"
  }
 },
 "nbformat": 4,
 "nbformat_minor": 2
}
