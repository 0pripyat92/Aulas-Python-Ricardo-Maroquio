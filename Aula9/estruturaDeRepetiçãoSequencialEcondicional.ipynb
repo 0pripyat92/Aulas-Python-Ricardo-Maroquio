{
 "cells": [
  {
   "cell_type": "code",
   "execution_count": null,
   "metadata": {},
   "outputs": [],
   "source": [
    "# Estruturas de Repetição Sequencial e Condicional"
   ]
  },
  {
   "cell_type": "code",
   "execution_count": 3,
   "metadata": {},
   "outputs": [
    {
     "name": "stdout",
     "output_type": "stream",
     "text": [
      "maça\n",
      "banana\n",
      "laranja\n"
     ]
    }
   ],
   "source": [
    "#estrutura for\n",
    "frutas = [\"maça\", \"banana\", \"laranja\"]\n",
    "for fruta in frutas:\n",
    "    print(fruta)"
   ]
  },
  {
   "cell_type": "code",
   "execution_count": 4,
   "metadata": {},
   "outputs": [
    {
     "name": "stdout",
     "output_type": "stream",
     "text": [
      "1 maça\n",
      "2 banana\n",
      "3 laranja\n"
     ]
    }
   ],
   "source": [
    "#estrutura for com resultado precedido de um numero i, i+1\n",
    "#função enumerate\n",
    "frutas = [\"maça\", \"banana\", \"laranja\"]\n",
    "for i, fruta in enumerate (frutas):\n",
    "    print(i+1, fruta)"
   ]
  },
  {
   "cell_type": "code",
   "execution_count": 6,
   "metadata": {},
   "outputs": [
    {
     "name": "stdout",
     "output_type": "stream",
     "text": [
      "Interação 0\n",
      "Interação 1\n",
      "Interação 2\n",
      "Interação 3\n",
      "Interação 4\n"
     ]
    }
   ],
   "source": [
    "#função range \n",
    "for i in range(5):\n",
    "    print(\"Interação\", i)"
   ]
  },
  {
   "cell_type": "code",
   "execution_count": 10,
   "metadata": {},
   "outputs": [
    {
     "name": "stdout",
     "output_type": "stream",
     "text": [
      "Interação 5\n",
      "Interação 6\n",
      "Interação 7\n",
      "Interação 8\n",
      "Interação 9\n"
     ]
    }
   ],
   "source": [
    "for i in range( 5, 10):\n",
    "    print(\"Interação\", i)"
   ]
  },
  {
   "cell_type": "code",
   "execution_count": 45,
   "metadata": {},
   "outputs": [
    {
     "name": "stdout",
     "output_type": "stream",
     "text": [
      "0  10  20  30  40  50  60  70  80  90  100  "
     ]
    }
   ],
   "source": [
    "for i in range(0, 101, 10):\n",
    "    print(i,\" \",end=\"\"  )"
   ]
  },
  {
   "cell_type": "code",
   "execution_count": 2,
   "metadata": {},
   "outputs": [
    {
     "name": "stdout",
     "output_type": "stream",
     "text": [
      "Voce digitou o numero: 1\n",
      "Voce digitou o numero: 2\n",
      "Voce digitou o numero: 3\n",
      "Voce digitou o numero: 3\n",
      "Acabou, você digitou um numero negativo\n"
     ]
    }
   ],
   "source": [
    "numero = int(input(\"Digite um numero: \"))\n",
    "while numero >= 0:\n",
    "    print(\"Voce digitou o numero:\",numero)\n",
    "    numero = int(input(\"digite um numero: \"))\n",
    "else:\n",
    "    print(\"Acabou, você digitou um numero negativo\")"
   ]
  }
 ],
 "metadata": {
  "kernelspec": {
   "display_name": "Python 3",
   "language": "python",
   "name": "python3"
  },
  "language_info": {
   "codemirror_mode": {
    "name": "ipython",
    "version": 3
   },
   "file_extension": ".py",
   "mimetype": "text/x-python",
   "name": "python",
   "nbconvert_exporter": "python",
   "pygments_lexer": "ipython3",
   "version": "3.12.1"
  }
 },
 "nbformat": 4,
 "nbformat_minor": 2
}
