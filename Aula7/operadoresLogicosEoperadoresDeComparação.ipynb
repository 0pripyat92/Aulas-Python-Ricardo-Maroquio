{
 "cells": [
  {
   "cell_type": "code",
   "execution_count": null,
   "metadata": {},
   "outputs": [],
   "source": [
    "# Operadores Logicos e operadores de comparação"
   ]
  },
  {
   "cell_type": "code",
   "execution_count": 6,
   "metadata": {},
   "outputs": [
    {
     "name": "stdout",
     "output_type": "stream",
     "text": [
      "A=10 B=15 C=20\n",
      "a==b -> False\n",
      "a!=b -> True\n",
      "a>b -> False\n",
      "a<b -> True\n",
      "a>=b -> False\n",
      "a<=b -> True\n",
      "a<b<c -> True\n"
     ]
    }
   ],
   "source": [
    "a = 10\n",
    "b = 15\n",
    "c = 20 \n",
    "print(f\"A={a} B={b} C={c}\")\n",
    "print(\"a==b ->\", a==b)\n",
    "print(\"a!=b ->\", a!=b)\n",
    "print(\"a>b ->\", a>b)\n",
    "print(\"a<b ->\", a<b)\n",
    "print(\"a>=b ->\", a>=b)\n",
    "print(\"a<=b ->\", a<=b)\n",
    "print(\"a<b<c ->\", a<b<c)"
   ]
  },
  {
   "cell_type": "code",
   "execution_count": 11,
   "metadata": {},
   "outputs": [
    {
     "name": "stdout",
     "output_type": "stream",
     "text": [
      "Voce tem permissão de acesso.\n"
     ]
    }
   ],
   "source": [
    "usuario = input(\"Digite seu nome de usuario: \")\n",
    "senha = input(\"Digite sua senha: \")\n",
    "if usuario == \"admin\" and senha == \"123\":\n",
    "    print(\"Voce tem permissão de acesso.\")\n",
    "else:\n",
    "    print(\"Voce não tem permissão de acesso.\")"
   ]
  },
  {
   "cell_type": "code",
   "execution_count": 23,
   "metadata": {},
   "outputs": [
    {
     "name": "stdout",
     "output_type": "stream",
     "text": [
      "Loja fechada!\n"
     ]
    }
   ],
   "source": [
    "dia_da_semana = input(\"Digite o dia da semana: \")\n",
    "hora = int(input(\"Digite a hora atual: \"))\n",
    "if dia_da_semana == \"sabado\" or dia_da_semana == \"domingo\" or hora < 9 or hora >= 17:\n",
    "    print(\"Loja fechada!\")\n",
    "else:\n",
    "    print(\"Loja aberta\")"
   ]
  },
  {
   "cell_type": "code",
   "execution_count": 25,
   "metadata": {},
   "outputs": [
    {
     "name": "stdout",
     "output_type": "stream",
     "text": [
      "Você é maior de idade\n"
     ]
    }
   ],
   "source": [
    "idade = int(input(\"Digite sua idade: \"))\n",
    "if not idade >=18:\n",
    "    print(\"Voce é menor de idade\")\n",
    "else:\n",
    "    print(\"Você é maior de idade\")"
   ]
  }
 ],
 "metadata": {
  "kernelspec": {
   "display_name": "Python 3",
   "language": "python",
   "name": "python3"
  },
  "language_info": {
   "codemirror_mode": {
    "name": "ipython",
    "version": 3
   },
   "file_extension": ".py",
   "mimetype": "text/x-python",
   "name": "python",
   "nbconvert_exporter": "python",
   "pygments_lexer": "ipython3",
   "version": "3.12.1"
  }
 },
 "nbformat": 4,
 "nbformat_minor": 2
}
