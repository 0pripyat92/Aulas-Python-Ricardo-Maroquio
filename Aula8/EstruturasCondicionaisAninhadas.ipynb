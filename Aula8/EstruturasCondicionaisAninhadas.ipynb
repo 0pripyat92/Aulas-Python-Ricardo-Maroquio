{
 "cells": [
  {
   "cell_type": "code",
   "execution_count": null,
   "metadata": {},
   "outputs": [],
   "source": [
    "# Estruturas Condicionais aninhadas, seleção multipla e Atribuição condicional\n"
   ]
  },
  {
   "cell_type": "code",
   "execution_count": 6,
   "metadata": {},
   "outputs": [
    {
     "name": "stdout",
     "output_type": "stream",
     "text": [
      "B é o maior numero\n"
     ]
    }
   ],
   "source": [
    "# Estruturas Condicionais aninhadas if else\n",
    "a, b, c = 30, 50, 10\n",
    "if a>b:\n",
    "    if a>c:\n",
    "        print(\"A é o maior numero\")\n",
    "    else:\n",
    "        print(\"C é o maior numero\")\n",
    "else:\n",
    "    if b>c:\n",
    "        print(\"B é o maior numero\")\n",
    "    else:\n",
    "        print(\"C é o maior numero\")        "
   ]
  },
  {
   "cell_type": "code",
   "execution_count": 12,
   "metadata": {},
   "outputs": [
    {
     "name": "stdout",
     "output_type": "stream",
     "text": [
      "A linguegem nao importa o q importa e o caos\n"
     ]
    }
   ],
   "source": [
    "# seleção multipla match case\n",
    "linguagem = input(\"Qual é  linguagem de programação que vc tem o maior dominio?\")\n",
    "match linguagem:\n",
    "    case \"python\":\n",
    "        print(\"Python! Muito usada e IOT e Inteligencia artificial\")\n",
    "    case \"javascript\":\n",
    "        print(\"Javascript! Muito usada em desenvolvimento web\")\n",
    "    case \"c#\":\n",
    "        print(\"C# Muito usada em varios tipos de aplicação\")\n",
    "    case _:\n",
    "        print(\"A linguegem nao importa o q importa e o caos\")"
   ]
  },
  {
   "cell_type": "code",
   "execution_count": 17,
   "metadata": {},
   "outputs": [
    {
     "name": "stdout",
     "output_type": "stream",
     "text": [
      "Menor de idade\n"
     ]
    }
   ],
   "source": [
    "#Operador de Atribuição condicional ou ternário\n",
    "#uma forma compacta de atribuir um valor a uma variavel com base em uma condição\n",
    "idade = 17\n",
    "status = \"Maior de idade\" if idade>= 18 else \"Menor de idade\"\n",
    "print(status)"
   ]
  }
 ],
 "metadata": {
  "kernelspec": {
   "display_name": "Python 3",
   "language": "python",
   "name": "python3"
  },
  "language_info": {
   "codemirror_mode": {
    "name": "ipython",
    "version": 3
   },
   "file_extension": ".py",
   "mimetype": "text/x-python",
   "name": "python",
   "nbconvert_exporter": "python",
   "pygments_lexer": "ipython3",
   "version": "3.12.1"
  }
 },
 "nbformat": 4,
 "nbformat_minor": 2
}
