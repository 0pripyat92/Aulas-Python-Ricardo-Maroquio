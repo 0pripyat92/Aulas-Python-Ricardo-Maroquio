{
 "cells": [
  {
   "cell_type": "code",
   "execution_count": null,
   "metadata": {},
   "outputs": [],
   "source": [
    "# Operadores Matematicos e conversão de tipos"
   ]
  },
  {
   "cell_type": "code",
   "execution_count": 15,
   "metadata": {},
   "outputs": [
    {
     "name": "stdout",
     "output_type": "stream",
     "text": [
      "8\n",
      "O tipo é: <class 'int'>\n"
     ]
    }
   ],
   "source": [
    "a = 5\n",
    "b = 3\n",
    "c = a + b\n",
    "print(c)\n",
    "print(f\"O tipo é: {type(c)}\")"
   ]
  },
  {
   "cell_type": "code",
   "execution_count": 14,
   "metadata": {},
   "outputs": [
    {
     "name": "stdout",
     "output_type": "stream",
     "text": [
      "Olá mundo!\n",
      "O tipo é: <class 'str'>\n"
     ]
    }
   ],
   "source": [
    "s1 = \"Olá \"\n",
    "s2 = \"mundo!\"\n",
    "s3 = s1 + s2\n",
    "print(s3)\n",
    "print(f\"O tipo é: {type(s3)}\")"
   ]
  },
  {
   "cell_type": "code",
   "execution_count": 13,
   "metadata": {},
   "outputs": [
    {
     "name": "stdout",
     "output_type": "stream",
     "text": [
      "2\n",
      "O tipo é: <class 'int'>\n"
     ]
    }
   ],
   "source": [
    "a = 5\n",
    "b = 3\n",
    "c = a - b\n",
    "print(c)\n",
    "print(f\"O tipo é: {type(c)}\")"
   ]
  },
  {
   "cell_type": "code",
   "execution_count": 12,
   "metadata": {},
   "outputs": [
    {
     "name": "stdout",
     "output_type": "stream",
     "text": [
      "15\n",
      "O tipo é: <class 'int'>\n"
     ]
    }
   ],
   "source": [
    "a = 5\n",
    "b = 3\n",
    "c = a * b\n",
    "print(c)\n",
    "print(f\"O tipo é: {type(c)}\")"
   ]
  },
  {
   "cell_type": "code",
   "execution_count": 11,
   "metadata": {},
   "outputs": [
    {
     "name": "stdout",
     "output_type": "stream",
     "text": [
      "oi oi oi \n",
      "O tipo é: <class 'str'>\n"
     ]
    }
   ],
   "source": [
    "s = \"oi \"\n",
    "r = s * 3\n",
    "print(r)\n",
    "print(f\"O tipo é: {type(r)}\")"
   ]
  },
  {
   "cell_type": "code",
   "execution_count": 22,
   "metadata": {},
   "outputs": [
    {
     "name": "stdout",
     "output_type": "stream",
     "text": [
      "2.0\n",
      "O tipo é: <class 'float'>\n"
     ]
    }
   ],
   "source": [
    "a = 6 \n",
    "b = 3\n",
    "c = a / b\n",
    "print(c)\n",
    "print(f\"O tipo é: {type(c)}\")"
   ]
  },
  {
   "cell_type": "code",
   "execution_count": 31,
   "metadata": {},
   "outputs": [
    {
     "name": "stdout",
     "output_type": "stream",
     "text": [
      "3\n",
      "O tipo é: <class 'int'>\n"
     ]
    }
   ],
   "source": [
    "a = 9 \n",
    "b = 3\n",
    "c = a // b\n",
    "print(c)\n",
    "print(f\"O tipo é: {type(c)}\")"
   ]
  },
  {
   "cell_type": "code",
   "execution_count": 34,
   "metadata": {},
   "outputs": [
    {
     "name": "stdout",
     "output_type": "stream",
     "text": [
      "1\n",
      "O tipo é: <class 'int'>\n"
     ]
    }
   ],
   "source": [
    "a = 7 \n",
    "b = 3\n",
    "c = a % b\n",
    "# segue da seguinte forma 7/3 = 2 e resta 1 \n",
    "print(c)\n",
    "print(f\"O tipo é: {type(c)}\")"
   ]
  },
  {
   "cell_type": "code",
   "execution_count": 33,
   "metadata": {},
   "outputs": [
    {
     "name": "stdout",
     "output_type": "stream",
     "text": [
      "2\n",
      "O tipo é: <class 'int'>\n"
     ]
    }
   ],
   "source": [
    "a = 8 \n",
    "b = 3\n",
    "c = a % b\n",
    "# segue da seguinte forma 8/3 = 2 e resta 2 \n",
    "print(c)\n",
    "print(f\"O tipo é: {type(c)}\")"
   ]
  },
  {
   "cell_type": "code",
   "execution_count": 36,
   "metadata": {},
   "outputs": [
    {
     "name": "stdout",
     "output_type": "stream",
     "text": [
      "8\n",
      "O tipo é: <class 'int'>\n"
     ]
    }
   ],
   "source": [
    "a = 2\n",
    "b = 3\n",
    "c = a ** b\n",
    "# 2 elevado a 3 ou ao cubo (2³) = 8\n",
    "# 2 * 2 = 4 4 * 2 = 8\n",
    "print(c)\n",
    "print(f\"O tipo é: {type(c)}\")"
   ]
  },
  {
   "cell_type": "code",
   "execution_count": 37,
   "metadata": {},
   "outputs": [
    {
     "name": "stdout",
     "output_type": "stream",
     "text": [
      "4\n",
      "O tipo é: <class 'int'>\n"
     ]
    }
   ],
   "source": [
    "a = 2\n",
    "b = 2\n",
    "c = a ** b\n",
    "# 2 elevado a 2 ou ao quadrado (2²) = 4\n",
    "# 2 * 2 = 4 4 * 2 = 8\n",
    "print(c)\n",
    "print(f\"O tipo é: {type(c)}\")"
   ]
  },
  {
   "cell_type": "code",
   "execution_count": 51,
   "metadata": {},
   "outputs": [
    {
     "name": "stdout",
     "output_type": "stream",
     "text": [
      "30 graus equivalente a 0.5235987755982988 radianos.\n",
      "O tipo de 30 é: <class 'int'>\n",
      "O tipo de 0.5235987755982988 é: <class 'float'>\n"
     ]
    }
   ],
   "source": [
    "import math\n",
    "\n",
    "#graus para radianos\n",
    "angulo_graus = 30\n",
    "angulo_rads = math.radians(angulo_graus)\n",
    "print(angulo_graus, \"graus equivalente a\", angulo_rads, \"radianos.\")\n",
    "print(f\"O tipo de 30 é: {type(angulo_graus)}\")\n",
    "print(f\"O tipo de {angulo_rads} é: {type(angulo_rads)}\")"
   ]
  },
  {
   "cell_type": "code",
   "execution_count": 50,
   "metadata": {},
   "outputs": [
    {
     "name": "stdout",
     "output_type": "stream",
     "text": [
      "Seno de 30 graus: 0.49999999999999994\n",
      "O tipo de 30 é: <class 'int'>\n",
      "O tipo de 0.49999999999999994 é: <class 'float'>\n"
     ]
    }
   ],
   "source": [
    "# seno\n",
    "angulo = 30\n",
    "seno = math.sin(math.radians(angulo))\n",
    "print(\"Seno de\", angulo, \"graus:\", seno)\n",
    "print(f\"O tipo de 30 é: {type(angulo)}\")\n",
    "print(f\"O tipo de {seno} é: {type(seno)}\")"
   ]
  },
  {
   "cell_type": "code",
   "execution_count": 53,
   "metadata": {},
   "outputs": [
    {
     "name": "stdout",
     "output_type": "stream",
     "text": [
      "Cosseno de 30 graus: 0.8660254037844387\n",
      "O tipo de 30 é: <class 'int'>\n",
      "O tipo de 0.8660254037844387 é: <class 'float'>\n"
     ]
    }
   ],
   "source": [
    "cosseno = math.cos(math.radians(angulo))\n",
    "print(\"Cosseno de\", angulo, \"graus:\", cosseno)\n",
    "print(f\"O tipo de {angulo} é: {type(angulo)}\")\n",
    "print(f\"O tipo de {cosseno} é: {type(cosseno)}\")"
   ]
  },
  {
   "cell_type": "code",
   "execution_count": 56,
   "metadata": {},
   "outputs": [
    {
     "name": "stdout",
     "output_type": "stream",
     "text": [
      "Arco de seno de 0.5 : 30.000000000000004 graus\n",
      "O tipo de 0.5 é: <class 'float'>\n",
      "O tipo de 30.000000000000004 é: <class 'float'>\n"
     ]
    }
   ],
   "source": [
    "seno = 0.5\n",
    "angulo = math.degrees(math.asin(seno))\n",
    "print(\"Arco de seno de\", seno, \":\", angulo, \"graus\")\n",
    "print(f\"O tipo de {seno} é: {type(seno)}\")\n",
    "print(f\"O tipo de {angulo} é: {type(angulo)}\")"
   ]
  },
  {
   "cell_type": "code",
   "execution_count": 61,
   "metadata": {},
   "outputs": [
    {
     "name": "stdout",
     "output_type": "stream",
     "text": [
      "Arco tangente de 1.0 : 45.0 graus\n",
      "O tipo de 1.0 é: <class 'float'>\n",
      "O tipo de 45.0 é: <class 'float'>\n"
     ]
    }
   ],
   "source": [
    "tangente = 1.0\n",
    "angulo = math.degrees(math.atan(tangente))\n",
    "print(\"Arco tangente de\", tangente, \":\", angulo, \"graus\")\n",
    "print(f\"O tipo de {tangente} é: {type(tangente)}\")\n",
    "print(f\"O tipo de {angulo} é: {type(angulo)}\")"
   ]
  },
  {
   "cell_type": "code",
   "execution_count": 62,
   "metadata": {},
   "outputs": [
    {
     "name": "stdout",
     "output_type": "stream",
     "text": [
      "Texto: 42 tipo: <class 'str'>\n",
      "Numero: 42 tipo: <class 'int'>\n"
     ]
    }
   ],
   "source": [
    "valorTexto = \"42\"\n",
    "valorInteiro = int(valorTexto)\n",
    "print(\"Texto:\", valorTexto, \"tipo:\", type(valorTexto))\n",
    "print(\"Numero:\", valorInteiro, \"tipo:\", type(valorInteiro))"
   ]
  },
  {
   "cell_type": "code",
   "execution_count": 68,
   "metadata": {},
   "outputs": [
    {
     "name": "stdout",
     "output_type": "stream",
     "text": [
      "Texto: 3.14 tipo: <class 'str'>\n",
      "Real: 3.14 tipo: <class 'float'>\n"
     ]
    }
   ],
   "source": [
    "valorTexto = \"3.14\"\n",
    "valorReal = float(valorTexto)\n",
    "print(\"Texto:\", valorTexto, \"tipo:\", type(valorTexto))\n",
    "print(\"Real:\", valorReal, \"tipo:\", type(valorReal))"
   ]
  },
  {
   "cell_type": "code",
   "execution_count": 69,
   "metadata": {},
   "outputs": [
    {
     "name": "stdout",
     "output_type": "stream",
     "text": [
      "Real: 3.14 tipo <class 'float'>\n",
      "Inteiro: 3 tipo: <class 'int'>\n"
     ]
    }
   ],
   "source": [
    "valorReal = 3.14\n",
    "valorInteiro = int(valorReal)\n",
    "print(\"Real:\", valorReal, \"tipo\", type(valorReal))\n",
    "print(\"Inteiro:\", valorInteiro, \"tipo:\", type(valorInteiro))"
   ]
  },
  {
   "cell_type": "code",
   "execution_count": 71,
   "metadata": {},
   "outputs": [
    {
     "name": "stdout",
     "output_type": "stream",
     "text": [
      "Real: 3.14 tipo: <class 'float'>\n",
      "Texto: 3.14 tipo: <class 'str'>\n"
     ]
    }
   ],
   "source": [
    "valorReal = 3.14\n",
    "valorTexto = str(valorReal)\n",
    "print(\"Real:\", valorReal, \"tipo:\", type(valorReal))\n",
    "print(\"Texto:\", valorTexto, \"tipo:\", type(valorTexto))"
   ]
  }
 ],
 "metadata": {
  "kernelspec": {
   "display_name": "Python 3",
   "language": "python",
   "name": "python3"
  },
  "language_info": {
   "codemirror_mode": {
    "name": "ipython",
    "version": 3
   },
   "file_extension": ".py",
   "mimetype": "text/x-python",
   "name": "python",
   "nbconvert_exporter": "python",
   "pygments_lexer": "ipython3",
   "version": "3.12.1"
  }
 },
 "nbformat": 4,
 "nbformat_minor": 2
}
