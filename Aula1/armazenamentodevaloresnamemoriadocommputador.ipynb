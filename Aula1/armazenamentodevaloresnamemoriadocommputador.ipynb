{
 "cells": [
  {
   "cell_type": "code",
   "execution_count": 16,
   "metadata": {},
   "outputs": [],
   "source": [
    "# Arazenamento de valores na memória do computador"
   ]
  },
  {
   "cell_type": "code",
   "execution_count": 1,
   "metadata": {},
   "outputs": [
    {
     "name": "stdout",
     "output_type": "stream",
     "text": [
      "João tem 30 anos.\n",
      "Maria tem 35 anos.\n",
      "Pedro tem 25\n"
     ]
    }
   ],
   "source": [
    "\n",
    "nome = \"João\"\n",
    "idade = 30\n",
    "print(f\"{nome} tem {idade} anos.\")\n",
    "nome=\"Maria\"\n",
    "idade=35\n",
    "print(f\"{nome} tem {idade} anos.\")\n",
    "preço = 10\n",
    "estoque=25\n",
    "valor1 = 10\n",
    "nome_1 = \"Pedro\"\n",
    "print(f\"{nome_1} tem {estoque}\") \n"
   ]
  },
  {
   "cell_type": "code",
   "execution_count": null,
   "metadata": {},
   "outputs": [],
   "source": [
    "# camelCase\n",
    "nomeCompleto = \"Fulano de tal\" #começa com letra minuscula e cada nome composto começa com letra maiuscula\n",
    "\n",
    "# PascalCase\n",
    "NomeCompleto = \"Fulano de tal\" #Inicia com letra maiuscula\n",
    "\n",
    "#snake_case\n",
    "nome_completo = \"Fulano de tal\" #possui um _ separando as palavras e os nomes sao em letras minusculas"
   ]
  }
 ],
 "metadata": {
  "kernelspec": {
   "display_name": "Python 3",
   "language": "python",
   "name": "python3"
  },
  "language_info": {
   "codemirror_mode": {
    "name": "ipython",
    "version": 3
   },
   "file_extension": ".py",
   "mimetype": "text/x-python",
   "name": "python",
   "nbconvert_exporter": "python",
   "pygments_lexer": "ipython3",
   "version": "3.12.1"
  }
 },
 "nbformat": 4,
 "nbformat_minor": 2
}
